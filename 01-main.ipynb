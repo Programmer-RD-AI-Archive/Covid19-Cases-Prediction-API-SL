{
 "cells": [
  {
   "cell_type": "code",
   "execution_count": 1,
   "metadata": {},
   "outputs": [],
   "source": [
    "import pandas as pd\n",
    "import numpy as np"
   ]
  },
  {
   "cell_type": "code",
   "execution_count": 2,
   "metadata": {},
   "outputs": [],
   "source": [
    "data_1 = pd.read_csv('./data/raw/data-1.csv')\n",
    "data_3 = pd.read_csv('./data/raw/data-2.csv')"
   ]
  },
  {
   "cell_type": "code",
   "execution_count": 3,
   "metadata": {},
   "outputs": [],
   "source": [
    "data_1 = data_1[data_1['location'] == 'Sri Lanka']"
   ]
  },
  {
   "cell_type": "code",
   "execution_count": 4,
   "metadata": {},
   "outputs": [],
   "source": [
    "data_3 = data_3[data_3['Country/Region'] == 'Sri Lanka']"
   ]
  },
  {
   "cell_type": "code",
   "execution_count": 5,
   "metadata": {},
   "outputs": [
    {
     "data": {
      "text/html": [
       "<div>\n",
       "<style scoped>\n",
       "    .dataframe tbody tr th:only-of-type {\n",
       "        vertical-align: middle;\n",
       "    }\n",
       "\n",
       "    .dataframe tbody tr th {\n",
       "        vertical-align: top;\n",
       "    }\n",
       "\n",
       "    .dataframe thead th {\n",
       "        text-align: right;\n",
       "    }\n",
       "</style>\n",
       "<table border=\"1\" class=\"dataframe\">\n",
       "  <thead>\n",
       "    <tr style=\"text-align: right;\">\n",
       "      <th></th>\n",
       "      <th>SNo</th>\n",
       "      <th>ObservationDate</th>\n",
       "      <th>Province/State</th>\n",
       "      <th>Country/Region</th>\n",
       "      <th>Last Update</th>\n",
       "      <th>Confirmed</th>\n",
       "      <th>Deaths</th>\n",
       "      <th>Recovered</th>\n",
       "    </tr>\n",
       "  </thead>\n",
       "  <tbody>\n",
       "    <tr>\n",
       "      <th>268</th>\n",
       "      <td>269</td>\n",
       "      <td>01/27/2020</td>\n",
       "      <td>NaN</td>\n",
       "      <td>Sri Lanka</td>\n",
       "      <td>1/27/20 23:59</td>\n",
       "      <td>1.0</td>\n",
       "      <td>0.0</td>\n",
       "      <td>0.0</td>\n",
       "    </tr>\n",
       "    <tr>\n",
       "      <th>321</th>\n",
       "      <td>322</td>\n",
       "      <td>01/28/2020</td>\n",
       "      <td>NaN</td>\n",
       "      <td>Sri Lanka</td>\n",
       "      <td>1/28/20 23:00</td>\n",
       "      <td>1.0</td>\n",
       "      <td>0.0</td>\n",
       "      <td>0.0</td>\n",
       "    </tr>\n",
       "    <tr>\n",
       "      <th>374</th>\n",
       "      <td>375</td>\n",
       "      <td>01/29/2020</td>\n",
       "      <td>NaN</td>\n",
       "      <td>Sri Lanka</td>\n",
       "      <td>1/29/20 19:30</td>\n",
       "      <td>1.0</td>\n",
       "      <td>0.0</td>\n",
       "      <td>0.0</td>\n",
       "    </tr>\n",
       "    <tr>\n",
       "      <th>430</th>\n",
       "      <td>431</td>\n",
       "      <td>01/30/2020</td>\n",
       "      <td>NaN</td>\n",
       "      <td>Sri Lanka</td>\n",
       "      <td>1/30/20 16:00</td>\n",
       "      <td>1.0</td>\n",
       "      <td>0.0</td>\n",
       "      <td>0.0</td>\n",
       "    </tr>\n",
       "    <tr>\n",
       "      <th>497</th>\n",
       "      <td>498</td>\n",
       "      <td>01/31/2020</td>\n",
       "      <td>NaN</td>\n",
       "      <td>Sri Lanka</td>\n",
       "      <td>1/31/2020 23:59</td>\n",
       "      <td>1.0</td>\n",
       "      <td>0.0</td>\n",
       "      <td>0.0</td>\n",
       "    </tr>\n",
       "    <tr>\n",
       "      <th>...</th>\n",
       "      <td>...</td>\n",
       "      <td>...</td>\n",
       "      <td>...</td>\n",
       "      <td>...</td>\n",
       "      <td>...</td>\n",
       "      <td>...</td>\n",
       "      <td>...</td>\n",
       "      <td>...</td>\n",
       "    </tr>\n",
       "    <tr>\n",
       "      <th>281633</th>\n",
       "      <td>281634</td>\n",
       "      <td>04/28/2021</td>\n",
       "      <td>NaN</td>\n",
       "      <td>Sri Lanka</td>\n",
       "      <td>2021-04-29 04:20:55</td>\n",
       "      <td>104953.0</td>\n",
       "      <td>661.0</td>\n",
       "      <td>95083.0</td>\n",
       "    </tr>\n",
       "    <tr>\n",
       "      <th>282397</th>\n",
       "      <td>282398</td>\n",
       "      <td>04/29/2021</td>\n",
       "      <td>NaN</td>\n",
       "      <td>Sri Lanka</td>\n",
       "      <td>2021-04-30 04:21:03</td>\n",
       "      <td>106484.0</td>\n",
       "      <td>661.0</td>\n",
       "      <td>95445.0</td>\n",
       "    </tr>\n",
       "    <tr>\n",
       "      <th>283161</th>\n",
       "      <td>283162</td>\n",
       "      <td>04/30/2021</td>\n",
       "      <td>NaN</td>\n",
       "      <td>Sri Lanka</td>\n",
       "      <td>2021-05-01 04:20:47</td>\n",
       "      <td>108146.0</td>\n",
       "      <td>678.0</td>\n",
       "      <td>95975.0</td>\n",
       "    </tr>\n",
       "    <tr>\n",
       "      <th>283925</th>\n",
       "      <td>283926</td>\n",
       "      <td>05/01/2021</td>\n",
       "      <td>NaN</td>\n",
       "      <td>Sri Lanka</td>\n",
       "      <td>2021-05-02 04:20:48</td>\n",
       "      <td>109862.0</td>\n",
       "      <td>687.0</td>\n",
       "      <td>96478.0</td>\n",
       "    </tr>\n",
       "    <tr>\n",
       "      <th>284689</th>\n",
       "      <td>284690</td>\n",
       "      <td>05/02/2021</td>\n",
       "      <td>NaN</td>\n",
       "      <td>Sri Lanka</td>\n",
       "      <td>2021-05-03 04:20:39</td>\n",
       "      <td>111753.0</td>\n",
       "      <td>696.0</td>\n",
       "      <td>97848.0</td>\n",
       "    </tr>\n",
       "  </tbody>\n",
       "</table>\n",
       "<p>462 rows × 8 columns</p>\n",
       "</div>"
      ],
      "text/plain": [
       "           SNo ObservationDate Province/State Country/Region  \\\n",
       "268        269      01/27/2020            NaN      Sri Lanka   \n",
       "321        322      01/28/2020            NaN      Sri Lanka   \n",
       "374        375      01/29/2020            NaN      Sri Lanka   \n",
       "430        431      01/30/2020            NaN      Sri Lanka   \n",
       "497        498      01/31/2020            NaN      Sri Lanka   \n",
       "...        ...             ...            ...            ...   \n",
       "281633  281634      04/28/2021            NaN      Sri Lanka   \n",
       "282397  282398      04/29/2021            NaN      Sri Lanka   \n",
       "283161  283162      04/30/2021            NaN      Sri Lanka   \n",
       "283925  283926      05/01/2021            NaN      Sri Lanka   \n",
       "284689  284690      05/02/2021            NaN      Sri Lanka   \n",
       "\n",
       "                Last Update  Confirmed  Deaths  Recovered  \n",
       "268           1/27/20 23:59        1.0     0.0        0.0  \n",
       "321           1/28/20 23:00        1.0     0.0        0.0  \n",
       "374           1/29/20 19:30        1.0     0.0        0.0  \n",
       "430           1/30/20 16:00        1.0     0.0        0.0  \n",
       "497         1/31/2020 23:59        1.0     0.0        0.0  \n",
       "...                     ...        ...     ...        ...  \n",
       "281633  2021-04-29 04:20:55   104953.0   661.0    95083.0  \n",
       "282397  2021-04-30 04:21:03   106484.0   661.0    95445.0  \n",
       "283161  2021-05-01 04:20:47   108146.0   678.0    95975.0  \n",
       "283925  2021-05-02 04:20:48   109862.0   687.0    96478.0  \n",
       "284689  2021-05-03 04:20:39   111753.0   696.0    97848.0  \n",
       "\n",
       "[462 rows x 8 columns]"
      ]
     },
     "execution_count": 5,
     "metadata": {},
     "output_type": "execute_result"
    }
   ],
   "source": [
    "data_3"
   ]
  },
  {
   "cell_type": "code",
   "execution_count": 71,
   "metadata": {},
   "outputs": [
    {
     "data": {
      "text/html": [
       "<div>\n",
       "<style scoped>\n",
       "    .dataframe tbody tr th:only-of-type {\n",
       "        vertical-align: middle;\n",
       "    }\n",
       "\n",
       "    .dataframe tbody tr th {\n",
       "        vertical-align: top;\n",
       "    }\n",
       "\n",
       "    .dataframe thead th {\n",
       "        text-align: right;\n",
       "    }\n",
       "</style>\n",
       "<table border=\"1\" class=\"dataframe\">\n",
       "  <thead>\n",
       "    <tr style=\"text-align: right;\">\n",
       "      <th></th>\n",
       "      <th>iso_code</th>\n",
       "      <th>continent</th>\n",
       "      <th>location</th>\n",
       "      <th>date</th>\n",
       "      <th>total_cases</th>\n",
       "      <th>new_cases</th>\n",
       "      <th>new_cases_smoothed</th>\n",
       "      <th>total_deaths</th>\n",
       "      <th>new_deaths</th>\n",
       "      <th>new_deaths_smoothed</th>\n",
       "      <th>...</th>\n",
       "      <th>gdp_per_capita</th>\n",
       "      <th>extreme_poverty</th>\n",
       "      <th>cardiovasc_death_rate</th>\n",
       "      <th>diabetes_prevalence</th>\n",
       "      <th>female_smokers</th>\n",
       "      <th>male_smokers</th>\n",
       "      <th>handwashing_facilities</th>\n",
       "      <th>hospital_beds_per_thousand</th>\n",
       "      <th>life_expectancy</th>\n",
       "      <th>human_development_index</th>\n",
       "    </tr>\n",
       "  </thead>\n",
       "  <tbody>\n",
       "    <tr>\n",
       "      <th>73793</th>\n",
       "      <td>LKA</td>\n",
       "      <td>Asia</td>\n",
       "      <td>Sri Lanka</td>\n",
       "      <td>20200127</td>\n",
       "      <td>1.0</td>\n",
       "      <td>1.0</td>\n",
       "      <td>NaN</td>\n",
       "      <td>NaN</td>\n",
       "      <td>NaN</td>\n",
       "      <td>NaN</td>\n",
       "      <td>...</td>\n",
       "      <td>11669.077</td>\n",
       "      <td>0.7</td>\n",
       "      <td>197.093</td>\n",
       "      <td>10.68</td>\n",
       "      <td>0.3</td>\n",
       "      <td>27.0</td>\n",
       "      <td>NaN</td>\n",
       "      <td>3.6</td>\n",
       "      <td>76.98</td>\n",
       "      <td>0.782</td>\n",
       "    </tr>\n",
       "    <tr>\n",
       "      <th>73794</th>\n",
       "      <td>LKA</td>\n",
       "      <td>Asia</td>\n",
       "      <td>Sri Lanka</td>\n",
       "      <td>20200128</td>\n",
       "      <td>1.0</td>\n",
       "      <td>0.0</td>\n",
       "      <td>NaN</td>\n",
       "      <td>NaN</td>\n",
       "      <td>NaN</td>\n",
       "      <td>NaN</td>\n",
       "      <td>...</td>\n",
       "      <td>11669.077</td>\n",
       "      <td>0.7</td>\n",
       "      <td>197.093</td>\n",
       "      <td>10.68</td>\n",
       "      <td>0.3</td>\n",
       "      <td>27.0</td>\n",
       "      <td>NaN</td>\n",
       "      <td>3.6</td>\n",
       "      <td>76.98</td>\n",
       "      <td>0.782</td>\n",
       "    </tr>\n",
       "    <tr>\n",
       "      <th>73795</th>\n",
       "      <td>LKA</td>\n",
       "      <td>Asia</td>\n",
       "      <td>Sri Lanka</td>\n",
       "      <td>20200129</td>\n",
       "      <td>1.0</td>\n",
       "      <td>0.0</td>\n",
       "      <td>NaN</td>\n",
       "      <td>NaN</td>\n",
       "      <td>NaN</td>\n",
       "      <td>NaN</td>\n",
       "      <td>...</td>\n",
       "      <td>11669.077</td>\n",
       "      <td>0.7</td>\n",
       "      <td>197.093</td>\n",
       "      <td>10.68</td>\n",
       "      <td>0.3</td>\n",
       "      <td>27.0</td>\n",
       "      <td>NaN</td>\n",
       "      <td>3.6</td>\n",
       "      <td>76.98</td>\n",
       "      <td>0.782</td>\n",
       "    </tr>\n",
       "    <tr>\n",
       "      <th>73796</th>\n",
       "      <td>LKA</td>\n",
       "      <td>Asia</td>\n",
       "      <td>Sri Lanka</td>\n",
       "      <td>20200130</td>\n",
       "      <td>1.0</td>\n",
       "      <td>0.0</td>\n",
       "      <td>NaN</td>\n",
       "      <td>NaN</td>\n",
       "      <td>NaN</td>\n",
       "      <td>NaN</td>\n",
       "      <td>...</td>\n",
       "      <td>11669.077</td>\n",
       "      <td>0.7</td>\n",
       "      <td>197.093</td>\n",
       "      <td>10.68</td>\n",
       "      <td>0.3</td>\n",
       "      <td>27.0</td>\n",
       "      <td>NaN</td>\n",
       "      <td>3.6</td>\n",
       "      <td>76.98</td>\n",
       "      <td>0.782</td>\n",
       "    </tr>\n",
       "    <tr>\n",
       "      <th>73797</th>\n",
       "      <td>LKA</td>\n",
       "      <td>Asia</td>\n",
       "      <td>Sri Lanka</td>\n",
       "      <td>20200131</td>\n",
       "      <td>1.0</td>\n",
       "      <td>0.0</td>\n",
       "      <td>NaN</td>\n",
       "      <td>NaN</td>\n",
       "      <td>NaN</td>\n",
       "      <td>NaN</td>\n",
       "      <td>...</td>\n",
       "      <td>11669.077</td>\n",
       "      <td>0.7</td>\n",
       "      <td>197.093</td>\n",
       "      <td>10.68</td>\n",
       "      <td>0.3</td>\n",
       "      <td>27.0</td>\n",
       "      <td>NaN</td>\n",
       "      <td>3.6</td>\n",
       "      <td>76.98</td>\n",
       "      <td>0.782</td>\n",
       "    </tr>\n",
       "    <tr>\n",
       "      <th>...</th>\n",
       "      <td>...</td>\n",
       "      <td>...</td>\n",
       "      <td>...</td>\n",
       "      <td>...</td>\n",
       "      <td>...</td>\n",
       "      <td>...</td>\n",
       "      <td>...</td>\n",
       "      <td>...</td>\n",
       "      <td>...</td>\n",
       "      <td>...</td>\n",
       "      <td>...</td>\n",
       "      <td>...</td>\n",
       "      <td>...</td>\n",
       "      <td>...</td>\n",
       "      <td>...</td>\n",
       "      <td>...</td>\n",
       "      <td>...</td>\n",
       "      <td>...</td>\n",
       "      <td>...</td>\n",
       "      <td>...</td>\n",
       "      <td>...</td>\n",
       "    </tr>\n",
       "    <tr>\n",
       "      <th>74255</th>\n",
       "      <td>LKA</td>\n",
       "      <td>Asia</td>\n",
       "      <td>Sri Lanka</td>\n",
       "      <td>20210503</td>\n",
       "      <td>113676.0</td>\n",
       "      <td>1923.0</td>\n",
       "      <td>1614.286</td>\n",
       "      <td>709.0</td>\n",
       "      <td>13.0</td>\n",
       "      <td>8.857</td>\n",
       "      <td>...</td>\n",
       "      <td>11669.077</td>\n",
       "      <td>0.7</td>\n",
       "      <td>197.093</td>\n",
       "      <td>10.68</td>\n",
       "      <td>0.3</td>\n",
       "      <td>27.0</td>\n",
       "      <td>NaN</td>\n",
       "      <td>3.6</td>\n",
       "      <td>76.98</td>\n",
       "      <td>0.782</td>\n",
       "    </tr>\n",
       "    <tr>\n",
       "      <th>74256</th>\n",
       "      <td>LKA</td>\n",
       "      <td>Asia</td>\n",
       "      <td>Sri Lanka</td>\n",
       "      <td>20210504</td>\n",
       "      <td>115590.0</td>\n",
       "      <td>1914.0</td>\n",
       "      <td>1729.000</td>\n",
       "      <td>709.0</td>\n",
       "      <td>0.0</td>\n",
       "      <td>8.857</td>\n",
       "      <td>...</td>\n",
       "      <td>11669.077</td>\n",
       "      <td>0.7</td>\n",
       "      <td>197.093</td>\n",
       "      <td>10.68</td>\n",
       "      <td>0.3</td>\n",
       "      <td>27.0</td>\n",
       "      <td>NaN</td>\n",
       "      <td>3.6</td>\n",
       "      <td>76.98</td>\n",
       "      <td>0.782</td>\n",
       "    </tr>\n",
       "    <tr>\n",
       "      <th>74257</th>\n",
       "      <td>LKA</td>\n",
       "      <td>Asia</td>\n",
       "      <td>Sri Lanka</td>\n",
       "      <td>20210505</td>\n",
       "      <td>117529.0</td>\n",
       "      <td>1939.0</td>\n",
       "      <td>1796.571</td>\n",
       "      <td>734.0</td>\n",
       "      <td>25.0</td>\n",
       "      <td>10.429</td>\n",
       "      <td>...</td>\n",
       "      <td>11669.077</td>\n",
       "      <td>0.7</td>\n",
       "      <td>197.093</td>\n",
       "      <td>10.68</td>\n",
       "      <td>0.3</td>\n",
       "      <td>27.0</td>\n",
       "      <td>NaN</td>\n",
       "      <td>3.6</td>\n",
       "      <td>76.98</td>\n",
       "      <td>0.782</td>\n",
       "    </tr>\n",
       "    <tr>\n",
       "      <th>74258</th>\n",
       "      <td>LKA</td>\n",
       "      <td>Asia</td>\n",
       "      <td>Sri Lanka</td>\n",
       "      <td>20210506</td>\n",
       "      <td>119424.0</td>\n",
       "      <td>1895.0</td>\n",
       "      <td>1848.571</td>\n",
       "      <td>745.0</td>\n",
       "      <td>11.0</td>\n",
       "      <td>12.000</td>\n",
       "      <td>...</td>\n",
       "      <td>11669.077</td>\n",
       "      <td>0.7</td>\n",
       "      <td>197.093</td>\n",
       "      <td>10.68</td>\n",
       "      <td>0.3</td>\n",
       "      <td>27.0</td>\n",
       "      <td>NaN</td>\n",
       "      <td>3.6</td>\n",
       "      <td>76.98</td>\n",
       "      <td>0.782</td>\n",
       "    </tr>\n",
       "    <tr>\n",
       "      <th>74259</th>\n",
       "      <td>LKA</td>\n",
       "      <td>Asia</td>\n",
       "      <td>Sri Lanka</td>\n",
       "      <td>20210507</td>\n",
       "      <td>121338.0</td>\n",
       "      <td>1914.0</td>\n",
       "      <td>1884.571</td>\n",
       "      <td>764.0</td>\n",
       "      <td>19.0</td>\n",
       "      <td>12.286</td>\n",
       "      <td>...</td>\n",
       "      <td>11669.077</td>\n",
       "      <td>0.7</td>\n",
       "      <td>197.093</td>\n",
       "      <td>10.68</td>\n",
       "      <td>0.3</td>\n",
       "      <td>27.0</td>\n",
       "      <td>NaN</td>\n",
       "      <td>3.6</td>\n",
       "      <td>76.98</td>\n",
       "      <td>0.782</td>\n",
       "    </tr>\n",
       "  </tbody>\n",
       "</table>\n",
       "<p>467 rows × 59 columns</p>\n",
       "</div>"
      ],
      "text/plain": [
       "      iso_code continent   location      date  total_cases  new_cases  \\\n",
       "73793      LKA      Asia  Sri Lanka  20200127          1.0        1.0   \n",
       "73794      LKA      Asia  Sri Lanka  20200128          1.0        0.0   \n",
       "73795      LKA      Asia  Sri Lanka  20200129          1.0        0.0   \n",
       "73796      LKA      Asia  Sri Lanka  20200130          1.0        0.0   \n",
       "73797      LKA      Asia  Sri Lanka  20200131          1.0        0.0   \n",
       "...        ...       ...        ...       ...          ...        ...   \n",
       "74255      LKA      Asia  Sri Lanka  20210503     113676.0     1923.0   \n",
       "74256      LKA      Asia  Sri Lanka  20210504     115590.0     1914.0   \n",
       "74257      LKA      Asia  Sri Lanka  20210505     117529.0     1939.0   \n",
       "74258      LKA      Asia  Sri Lanka  20210506     119424.0     1895.0   \n",
       "74259      LKA      Asia  Sri Lanka  20210507     121338.0     1914.0   \n",
       "\n",
       "       new_cases_smoothed  total_deaths  new_deaths  new_deaths_smoothed  ...  \\\n",
       "73793                 NaN           NaN         NaN                  NaN  ...   \n",
       "73794                 NaN           NaN         NaN                  NaN  ...   \n",
       "73795                 NaN           NaN         NaN                  NaN  ...   \n",
       "73796                 NaN           NaN         NaN                  NaN  ...   \n",
       "73797                 NaN           NaN         NaN                  NaN  ...   \n",
       "...                   ...           ...         ...                  ...  ...   \n",
       "74255            1614.286         709.0        13.0                8.857  ...   \n",
       "74256            1729.000         709.0         0.0                8.857  ...   \n",
       "74257            1796.571         734.0        25.0               10.429  ...   \n",
       "74258            1848.571         745.0        11.0               12.000  ...   \n",
       "74259            1884.571         764.0        19.0               12.286  ...   \n",
       "\n",
       "       gdp_per_capita  extreme_poverty  cardiovasc_death_rate  \\\n",
       "73793       11669.077              0.7                197.093   \n",
       "73794       11669.077              0.7                197.093   \n",
       "73795       11669.077              0.7                197.093   \n",
       "73796       11669.077              0.7                197.093   \n",
       "73797       11669.077              0.7                197.093   \n",
       "...               ...              ...                    ...   \n",
       "74255       11669.077              0.7                197.093   \n",
       "74256       11669.077              0.7                197.093   \n",
       "74257       11669.077              0.7                197.093   \n",
       "74258       11669.077              0.7                197.093   \n",
       "74259       11669.077              0.7                197.093   \n",
       "\n",
       "       diabetes_prevalence  female_smokers  male_smokers  \\\n",
       "73793                10.68             0.3          27.0   \n",
       "73794                10.68             0.3          27.0   \n",
       "73795                10.68             0.3          27.0   \n",
       "73796                10.68             0.3          27.0   \n",
       "73797                10.68             0.3          27.0   \n",
       "...                    ...             ...           ...   \n",
       "74255                10.68             0.3          27.0   \n",
       "74256                10.68             0.3          27.0   \n",
       "74257                10.68             0.3          27.0   \n",
       "74258                10.68             0.3          27.0   \n",
       "74259                10.68             0.3          27.0   \n",
       "\n",
       "       handwashing_facilities  hospital_beds_per_thousand  life_expectancy  \\\n",
       "73793                     NaN                         3.6            76.98   \n",
       "73794                     NaN                         3.6            76.98   \n",
       "73795                     NaN                         3.6            76.98   \n",
       "73796                     NaN                         3.6            76.98   \n",
       "73797                     NaN                         3.6            76.98   \n",
       "...                       ...                         ...              ...   \n",
       "74255                     NaN                         3.6            76.98   \n",
       "74256                     NaN                         3.6            76.98   \n",
       "74257                     NaN                         3.6            76.98   \n",
       "74258                     NaN                         3.6            76.98   \n",
       "74259                     NaN                         3.6            76.98   \n",
       "\n",
       "       human_development_index  \n",
       "73793                    0.782  \n",
       "73794                    0.782  \n",
       "73795                    0.782  \n",
       "73796                    0.782  \n",
       "73797                    0.782  \n",
       "...                        ...  \n",
       "74255                    0.782  \n",
       "74256                    0.782  \n",
       "74257                    0.782  \n",
       "74258                    0.782  \n",
       "74259                    0.782  \n",
       "\n",
       "[467 rows x 59 columns]"
      ]
     },
     "execution_count": 71,
     "metadata": {},
     "output_type": "execute_result"
    }
   ],
   "source": [
    "data_1"
   ]
  },
  {
   "cell_type": "code",
   "execution_count": 6,
   "metadata": {},
   "outputs": [],
   "source": [
    "new_tests = (data_1['new_tests'])\n",
    "total_tests = (data_1['total_tests'])\n",
    "positive_rate = (data_1['positive_rate'])\n",
    "total_vaccinations = (data_1['total_vaccinations'])\n",
    "new_vaccinations = (data_1['new_vaccinations'])"
   ]
  },
  {
   "cell_type": "code",
   "execution_count": 7,
   "metadata": {},
   "outputs": [],
   "source": [
    "new_tests = new_tests.fillna(new_tests.median())\n",
    "total_tests = total_tests.fillna(total_tests.median())\n",
    "positive_rate = positive_rate.fillna(positive_rate.median())\n",
    "total_vaccinations = total_vaccinations.fillna(total_vaccinations.median())\n",
    "new_vaccinations = new_vaccinations.fillna(new_vaccinations.median())"
   ]
  },
  {
   "cell_type": "code",
   "execution_count": 8,
   "metadata": {},
   "outputs": [],
   "source": [
    "new_cases_list = []\n",
    "for row_index,(info) in enumerate(data_3['Confirmed']):\n",
    "    if row_index == 0:\n",
    "        new_cases_list.append(info)\n",
    "    else:\n",
    "        new_cases_list.append(info - data_3['Confirmed'].iloc[row_index - 1])"
   ]
  },
  {
   "cell_type": "code",
   "execution_count": 9,
   "metadata": {},
   "outputs": [],
   "source": [
    "new_cases = np.array(new_cases_list)"
   ]
  },
  {
   "cell_type": "code",
   "execution_count": 10,
   "metadata": {},
   "outputs": [],
   "source": [
    "total_cases = np.array(data_3['Confirmed'])"
   ]
  },
  {
   "cell_type": "code",
   "execution_count": 11,
   "metadata": {},
   "outputs": [],
   "source": [
    "total_deaths = np.array(data_3['Deaths'])"
   ]
  },
  {
   "cell_type": "code",
   "execution_count": 12,
   "metadata": {},
   "outputs": [],
   "source": [
    "new_deaths_list = []\n",
    "for row_index,(info) in enumerate(data_3['Deaths']):\n",
    "    \n",
    "    if row_index == 0:\n",
    "        new_deaths_list.append(info)\n",
    "    else:\n",
    "        new_deaths_list.append(info - data_3['Deaths'].iloc[row_index - 1])"
   ]
  },
  {
   "cell_type": "code",
   "execution_count": 13,
   "metadata": {},
   "outputs": [],
   "source": [
    "new_deaths = np.array(new_deaths_list)"
   ]
  },
  {
   "cell_type": "code",
   "execution_count": 14,
   "metadata": {},
   "outputs": [],
   "source": [
    "total_recovered = np.array(data_3['Recovered'])"
   ]
  },
  {
   "cell_type": "code",
   "execution_count": 15,
   "metadata": {},
   "outputs": [],
   "source": [
    "new_recovered_list = []\n",
    "for row_index,(info) in enumerate(data_3['Recovered']):\n",
    "    if row_index == 0:\n",
    "        new_recovered_list.append(info)\n",
    "    else:\n",
    "        new_recovered_list.append(info - data_3['Recovered'].iloc[row_index - 1])"
   ]
  },
  {
   "cell_type": "code",
   "execution_count": 16,
   "metadata": {},
   "outputs": [],
   "source": [
    "new_recovered = np.array(new_recovered_list)"
   ]
  },
  {
   "cell_type": "code",
   "execution_count": 17,
   "metadata": {},
   "outputs": [
    {
     "data": {
      "text/plain": [
       "462"
      ]
     },
     "execution_count": 17,
     "metadata": {},
     "output_type": "execute_result"
    }
   ],
   "source": [
    "len(new_recovered)"
   ]
  },
  {
   "cell_type": "code",
   "execution_count": 18,
   "metadata": {},
   "outputs": [
    {
     "data": {
      "text/plain": [
       "467"
      ]
     },
     "execution_count": 18,
     "metadata": {},
     "output_type": "execute_result"
    }
   ],
   "source": [
    "len(new_tests)"
   ]
  },
  {
   "cell_type": "code",
   "execution_count": 19,
   "metadata": {},
   "outputs": [],
   "source": [
    "dates_1 = []\n",
    "for date in data_1['date']:\n",
    "    date = str(date).replace('-','')\n",
    "    dates_1.append(int(date))"
   ]
  },
  {
   "cell_type": "code",
   "execution_count": 20,
   "metadata": {},
   "outputs": [],
   "source": [
    "# Year Month Day"
   ]
  },
  {
   "cell_type": "code",
   "execution_count": 21,
   "metadata": {},
   "outputs": [],
   "source": [
    "dates_3 = []\n",
    "for date in data_3['ObservationDate']:\n",
    "    date = str(date).split('/')\n",
    "    date = int(date[2] + date[0] + date[1])\n",
    "    dates_3.append(date)"
   ]
  },
  {
   "cell_type": "code",
   "execution_count": 22,
   "metadata": {},
   "outputs": [
    {
     "data": {
      "text/plain": [
       "20200127"
      ]
     },
     "execution_count": 22,
     "metadata": {},
     "output_type": "execute_result"
    }
   ],
   "source": [
    "dates_1[0]"
   ]
  },
  {
   "cell_type": "code",
   "execution_count": 23,
   "metadata": {},
   "outputs": [
    {
     "data": {
      "text/plain": [
       "20200127"
      ]
     },
     "execution_count": 23,
     "metadata": {},
     "output_type": "execute_result"
    }
   ],
   "source": [
    "dates_3[0]"
   ]
  },
  {
   "cell_type": "code",
   "execution_count": 24,
   "metadata": {},
   "outputs": [],
   "source": [
    "data_1['date'] = dates_1"
   ]
  },
  {
   "cell_type": "code",
   "execution_count": 25,
   "metadata": {},
   "outputs": [],
   "source": [
    "data_3['ObservationDate'] = dates_3"
   ]
  },
  {
   "cell_type": "code",
   "execution_count": 26,
   "metadata": {},
   "outputs": [],
   "source": [
    "total_recovered = data_3['Recovered']"
   ]
  },
  {
   "cell_type": "code",
   "execution_count": 27,
   "metadata": {},
   "outputs": [],
   "source": [
    "infos = [new_tests,total_tests,positive_rate,total_vaccinations,new_vaccinations]\n",
    "infos_name = ['new_tests','total_tests','positive_rate','total_vaccinations','new_vaccinations']"
   ]
  },
  {
   "cell_type": "code",
   "execution_count": 28,
   "metadata": {},
   "outputs": [],
   "source": [
    "file_names = []"
   ]
  },
  {
   "cell_type": "code",
   "execution_count": 29,
   "metadata": {},
   "outputs": [
    {
     "name": "stdout",
     "output_type": "stream",
     "text": [
      "467\n",
      "467\n",
      "467\n",
      "467\n",
      "467\n"
     ]
    }
   ],
   "source": [
    "for (info,name) in zip(infos,infos_name):\n",
    "    info = list(info)\n",
    "    new_df = pd.DataFrame({'date':data_1['date'],name:info})\n",
    "    print(len(new_df))\n",
    "    new_df.to_csv(f'./{name}.csv',index=False)\n",
    "    file_names.append([f'./{name}.csv',name])"
   ]
  },
  {
   "cell_type": "code",
   "execution_count": 30,
   "metadata": {},
   "outputs": [],
   "source": [
    "infos = [new_cases,total_cases,total_deaths,new_deaths,new_recovered,total_recovered]\n",
    "infos_name = ['new_cases','total_cases','total_deaths','new_deaths','new_recovered','total_recovered']"
   ]
  },
  {
   "cell_type": "code",
   "execution_count": 31,
   "metadata": {},
   "outputs": [
    {
     "name": "stdout",
     "output_type": "stream",
     "text": [
      "462\n",
      "462\n",
      "462\n",
      "462\n",
      "462\n",
      "462\n"
     ]
    }
   ],
   "source": [
    "for (info,name) in zip(infos,infos_name):\n",
    "    info = list(info)\n",
    "    new_df = pd.DataFrame({'date':data_3['ObservationDate'],name:info})\n",
    "    print(len(new_df))\n",
    "    new_df.to_csv(f'./{name}.csv',index=False)\n",
    "    file_names.append([f'./{name}.csv',name])"
   ]
  },
  {
   "cell_type": "code",
   "execution_count": 32,
   "metadata": {},
   "outputs": [],
   "source": [
    "from sklearn.ensemble import GradientBoostingRegressor,RandomForestRegressor"
   ]
  },
  {
   "cell_type": "code",
   "execution_count": 33,
   "metadata": {},
   "outputs": [],
   "source": [
    "results = {}"
   ]
  },
  {
   "cell_type": "code",
   "execution_count": 34,
   "metadata": {},
   "outputs": [],
   "source": [
    "for file in file_names:\n",
    "    data = pd.read_csv(file[0])\n",
    "    X = data['date'].astype(np.float32)\n",
    "    X = np.array(X).reshape(-1, 1).astype(np.float32)\n",
    "    y = data[file[1]]\n",
    "    model = RandomForestRegressor()\n",
    "    model.fit(X,y)\n",
    "    results[file[1]] = [model.score(X,y),model.predict(X)[0],y[0]]"
   ]
  },
  {
   "cell_type": "code",
   "execution_count": 35,
   "metadata": {},
   "outputs": [
    {
     "data": {
      "text/plain": [
       "{'new_tests': [0.9738510517321103, 2827.0, 2827.0],\n",
       " 'total_tests': [0.9966773782442485, 287864.0, 287864.0],\n",
       " 'positive_rate': [0.9758566806773458, 0.02999999999999995, 0.03],\n",
       " 'total_vaccinations': [0.9421673422092169, 726920.0, 726920.0],\n",
       " 'new_vaccinations': [0.9149942925661824, 9704.5, 9704.5],\n",
       " 'new_cases': [0.9748953960706197, 0.32175, 1.0],\n",
       " 'total_cases': [0.9999246646042789, 1.0, 1.0],\n",
       " 'total_deaths': [0.9998908363580193, 0.0, 0.0],\n",
       " 'new_deaths': [0.7596288650126689, 0.0, 0.0],\n",
       " 'new_recovered': [0.9535734797920047, 0.0, 0.0],\n",
       " 'total_recovered': [0.9999302742851999, 0.0, 0.0]}"
      ]
     },
     "execution_count": 35,
     "metadata": {},
     "output_type": "execute_result"
    }
   ],
   "source": [
    "results"
   ]
  },
  {
   "cell_type": "code",
   "execution_count": 36,
   "metadata": {},
   "outputs": [],
   "source": [
    "from sklearn.preprocessing import StandardScaler,RobustScaler,MinMaxScaler,MaxAbsScaler,OneHotEncoder,LabelEncoder,Normalizer"
   ]
  },
  {
   "cell_type": "code",
   "execution_count": 37,
   "metadata": {},
   "outputs": [],
   "source": [
    "results = {}"
   ]
  },
  {
   "cell_type": "code",
   "execution_count": 38,
   "metadata": {},
   "outputs": [],
   "source": [
    "for file in file_names:\n",
    "    data = pd.read_csv(file[0])\n",
    "    X = data['date'].astype(np.float32)\n",
    "    X = np.array(X).reshape(-1, 1).astype(np.float32)\n",
    "    y = data[file[1]]\n",
    "    le = LabelEncoder()\n",
    "    le.fit(y)\n",
    "    y = le.transform(y)\n",
    "    model = RandomForestRegressor()\n",
    "    model.fit(X,y)\n",
    "    results[file[1]] = [model.score(X,y),model.predict(X)[0],y[0]]"
   ]
  },
  {
   "cell_type": "code",
   "execution_count": 39,
   "metadata": {},
   "outputs": [
    {
     "data": {
      "text/plain": [
       "{'new_tests': [0.9662092759083641, 203.0, 203],\n",
       " 'total_tests': [0.9919806396525034, 218.0, 218],\n",
       " 'positive_rate': [0.978126013301882, 30.0, 30],\n",
       " 'total_vaccinations': [0.911402458220999, 37.0, 37],\n",
       " 'new_vaccinations': [0.8082557408892712, 33.0, 33],\n",
       " 'new_cases': [0.9757404465936385, 0.28854761904761894, 1],\n",
       " 'total_cases': [0.9999677360319738, 0.0, 0],\n",
       " 'total_deaths': [0.999929769351141, 0.0, 0],\n",
       " 'new_deaths': [0.7598551635181103, 0.0, 0],\n",
       " 'new_recovered': [0.9696743051169889, 2.0, 2],\n",
       " 'total_recovered': [0.9999673403153663, 0.0, 0]}"
      ]
     },
     "execution_count": 39,
     "metadata": {},
     "output_type": "execute_result"
    }
   ],
   "source": [
    "results"
   ]
  },
  {
   "cell_type": "code",
   "execution_count": 40,
   "metadata": {},
   "outputs": [],
   "source": [
    "# le"
   ]
  },
  {
   "cell_type": "code",
   "execution_count": 41,
   "metadata": {},
   "outputs": [],
   "source": [
    "from sklearn.neighbors import KNeighborsRegressor\n",
    "from sklearn.linear_model import LogisticRegression,LogisticRegressionCV\n",
    "from sklearn.naive_bayes import GaussianNB\n",
    "from sklearn.tree import DecisionTreeRegressor\n",
    "from sklearn.ensemble import GradientBoostingRegressor,AdaBoostRegressor,BaggingRegressor,RandomForestRegressor\n",
    "from sklearn.svm import SVR"
   ]
  },
  {
   "cell_type": "code",
   "execution_count": 42,
   "metadata": {},
   "outputs": [],
   "source": [
    "models = [\n",
    "    ['KNeighborsRegressor',KNeighborsRegressor],\n",
    "    ['LogisticRegression',LogisticRegression],\n",
    "    ['LogisticRegressionCV',LogisticRegressionCV],\n",
    "    ['GaussianNB',GaussianNB],\n",
    "    ['DecisionTreeRegressor',DecisionTreeRegressor],\n",
    "    ['GradientBoostingRegressor',GradientBoostingRegressor],\n",
    "    ['AdaBoostRegressor',AdaBoostRegressor],\n",
    "    ['BaggingRegressor',BaggingRegressor],\n",
    "    ['RandomForestRegressor',RandomForestRegressor],\n",
    "    ['SVR',SVR],\n",
    "]"
   ]
  },
  {
   "cell_type": "code",
   "execution_count": 43,
   "metadata": {},
   "outputs": [
    {
     "name": "stdout",
     "output_type": "stream",
     "text": [
      "['KNeighborsRegressor', <class 'sklearn.neighbors._regression.KNeighborsRegressor'>]\n",
      "['LogisticRegression', <class 'sklearn.linear_model._logistic.LogisticRegression'>]\n",
      "['LogisticRegressionCV', <class 'sklearn.linear_model._logistic.LogisticRegressionCV'>]\n",
      "['GaussianNB', <class 'sklearn.naive_bayes.GaussianNB'>]\n",
      "['DecisionTreeRegressor', <class 'sklearn.tree._classes.DecisionTreeRegressor'>]\n",
      "['GradientBoostingRegressor', <class 'sklearn.ensemble._gb.GradientBoostingRegressor'>]\n",
      "['AdaBoostRegressor', <class 'sklearn.ensemble._weight_boosting.AdaBoostRegressor'>]\n",
      "['BaggingRegressor', <class 'sklearn.ensemble._bagging.BaggingRegressor'>]\n",
      "['RandomForestRegressor', <class 'sklearn.ensemble._forest.RandomForestRegressor'>]\n",
      "['SVR', <class 'sklearn.svm._classes.SVR'>]\n"
     ]
    }
   ],
   "source": [
    "results = {}\n",
    "for model in models:\n",
    "    print(model)\n",
    "    name = model[0]\n",
    "    mean = [0]\n",
    "    for file in file_names:\n",
    "        data = pd.read_csv(file[0])\n",
    "        X = data['date'].astype(np.float32)\n",
    "        X = np.array(X).reshape(-1, 1).astype(np.float32)\n",
    "        y = data[file[1]]\n",
    "        le = LabelEncoder()\n",
    "        le.fit(y)\n",
    "        y = le.transform(y)\n",
    "        model = RandomForestRegressor()\n",
    "        model.fit(X,y)\n",
    "        mean.append(model.score(X,y))\n",
    "    results[name] = [np.mean(mean),model.predict(X)[250],y[250]]"
   ]
  },
  {
   "cell_type": "code",
   "execution_count": 44,
   "metadata": {},
   "outputs": [],
   "source": [
    "import pprint"
   ]
  },
  {
   "cell_type": "code",
   "execution_count": 45,
   "metadata": {},
   "outputs": [
    {
     "name": "stdout",
     "output_type": "stream",
     "text": [
      "{'AdaBoostRegressor': [0.8632000831544313, 187.93054761904762, 187],\n",
      " 'BaggingRegressor': [0.8636426019486034, 187.97850000000003, 187],\n",
      " 'DecisionTreeRegressor': [0.8631484708907772, 188.07609523809523, 187],\n",
      " 'GaussianNB': [0.8630624605517069, 188.0104166666667, 187],\n",
      " 'GradientBoostingRegressor': [0.8636067810942879, 187.8120555555556, 187],\n",
      " 'KNeighborsRegressor': [0.8632914040841552, 187.9589761904762, 187],\n",
      " 'LogisticRegression': [0.8629427272080061, 188.03054761904764, 187],\n",
      " 'LogisticRegressionCV': [0.8631093048018234, 187.79433333333327, 187],\n",
      " 'RandomForestRegressor': [0.8633836589505551, 187.83817857142859, 187],\n",
      " 'SVR': [0.8635155332103873, 188.04049206349205, 187]}\n"
     ]
    }
   ],
   "source": [
    "pprint.pprint(results)"
   ]
  },
  {
   "cell_type": "code",
   "execution_count": 46,
   "metadata": {},
   "outputs": [],
   "source": [
    "import pickle"
   ]
  },
  {
   "cell_type": "code",
   "execution_count": 47,
   "metadata": {},
   "outputs": [],
   "source": [
    "results = {}\n",
    "for file in file_names:\n",
    "    data = pd.read_csv(file[0])\n",
    "    X = data['date'].astype(np.float32)\n",
    "    X = np.array(X).reshape(-1, 1).astype(np.float32)\n",
    "    y = data[file[1]]\n",
    "    le = LabelEncoder()\n",
    "    le.fit(y)\n",
    "    y = le.transform(y)\n",
    "    model = BaggingRegressor()\n",
    "    model.fit(X,y)\n",
    "    pickle.dump(model,open(f'./models/{file[1]}-0.pkl','wb'))\n",
    "    results[file[1]] = [model.score(X,y),model.predict(X)[0],y[0]]"
   ]
  },
  {
   "cell_type": "code",
   "execution_count": 48,
   "metadata": {},
   "outputs": [
    {
     "data": {
      "text/plain": [
       "{'new_tests': [0.9647127195718346, 203.0, 203],\n",
       " 'total_tests': [0.992670543401137, 218.0, 218],\n",
       " 'positive_rate': [0.9775722441383866, 30.0, 30],\n",
       " 'total_vaccinations': [0.9063530139702001, 37.0, 37],\n",
       " 'new_vaccinations': [0.7966503557127284, 33.0, 33],\n",
       " 'new_cases': [0.9739906942664949, 0.225, 1],\n",
       " 'total_cases': [0.9999640534286116, 0.0, 0],\n",
       " 'total_deaths': [0.9999202040856773, 0.0, 0],\n",
       " 'new_deaths': [0.7439964233018768, 0.0, 0],\n",
       " 'new_recovered': [0.9674406775395747, 2.0, 2],\n",
       " 'total_recovered': [0.9999638088090648, 0.0, 0]}"
      ]
     },
     "execution_count": 48,
     "metadata": {},
     "output_type": "execute_result"
    }
   ],
   "source": [
    "results"
   ]
  },
  {
   "cell_type": "code",
   "execution_count": 68,
   "metadata": {},
   "outputs": [],
   "source": [
    "date = 20210509"
   ]
  },
  {
   "cell_type": "code",
   "execution_count": 69,
   "metadata": {},
   "outputs": [],
   "source": [
    "results = {}\n",
    "for file in file_names:\n",
    "    data = pd.read_csv(file[0])\n",
    "    X = data['date'].astype(np.float32)\n",
    "    X = np.array(X).reshape(-1, 1).astype(np.float32)\n",
    "    y = data[file[1]]\n",
    "    le = LabelEncoder()\n",
    "    le.fit(y)\n",
    "    y = le.transform(y)\n",
    "    model = BaggingRegressor()\n",
    "    model.fit(X,y)\n",
    "    date = np.array([int(date)])\n",
    "    date = date.reshape(-1,1)\n",
    "    results[file[1]] = [date,model.predict(date)]"
   ]
  },
  {
   "cell_type": "code",
   "execution_count": 70,
   "metadata": {},
   "outputs": [
    {
     "data": {
      "text/plain": [
       "{'new_tests': [array([[20210509]]), array([244.93333333])],\n",
       " 'total_tests': [array([[20210509]]), array([239.675])],\n",
       " 'positive_rate': [array([[20210509]]), array([37.7])],\n",
       " 'total_vaccinations': [array([[20210509]]), array([73.6])],\n",
       " 'new_vaccinations': [array([[20210509]]), array([44.06666667])],\n",
       " 'new_cases': [array([[20210509]]), array([237.7])],\n",
       " 'total_cases': [array([[20210509]]), array([402.5])],\n",
       " 'total_deaths': [array([[20210509]]), array([176.13333333])],\n",
       " 'new_deaths': [array([[20210509]]), array([8.1])],\n",
       " 'new_recovered': [array([[20210509]]), array([221.2])],\n",
       " 'total_recovered': [array([[20210509]]), array([396.7])]}"
      ]
     },
     "execution_count": 70,
     "metadata": {},
     "output_type": "execute_result"
    }
   ],
   "source": [
    "results"
   ]
  },
  {
   "cell_type": "code",
   "execution_count": null,
   "metadata": {},
   "outputs": [],
   "source": []
  }
 ],
 "metadata": {
  "kernelspec": {
   "display_name": "Python 3.7.3 64-bit ('base': conda)",
   "language": "python",
   "name": "python373jvsc74a57bd0210f9608a45c0278a93c9e0b10db32a427986ab48cfc0d20c139811eb78c4bbc"
  },
  "language_info": {
   "codemirror_mode": {
    "name": "ipython",
    "version": 3
   },
   "file_extension": ".py",
   "mimetype": "text/x-python",
   "name": "python",
   "nbconvert_exporter": "python",
   "pygments_lexer": "ipython3",
   "version": "3.7.3"
  }
 },
 "nbformat": 4,
 "nbformat_minor": 2
}
