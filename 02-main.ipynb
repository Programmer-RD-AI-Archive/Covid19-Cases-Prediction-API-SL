{
 "cells": [
  {
   "cell_type": "markdown",
   "metadata": {},
   "source": [
    "# WorkFlow\n",
    "## Load the data\n",
    "## Clean the data\n",
    "## test modelling\n",
    "## modelling"
   ]
  },
  {
   "cell_type": "markdown",
   "metadata": {},
   "source": [
    "## Load the data"
   ]
  },
  {
   "cell_type": "code",
   "execution_count": 53,
   "metadata": {},
   "outputs": [],
   "source": [
    "import pandas as pd"
   ]
  },
  {
   "cell_type": "code",
   "execution_count": 54,
   "metadata": {},
   "outputs": [],
   "source": [
    "data_0 = pd.read_csv('./data/raw/data-1.csv')\n",
    "data_1 = pd.read_csv('./data/raw/data-2.csv')"
   ]
  },
  {
   "cell_type": "code",
   "execution_count": 55,
   "metadata": {},
   "outputs": [],
   "source": [
    "data_0 = data_0[data_0['location'] == 'Sri Lanka']\n",
    "data_1 = data_1[data_1['Country/Region'] == 'Sri Lanka']"
   ]
  },
  {
   "cell_type": "markdown",
   "metadata": {},
   "source": [
    "## Clean the data"
   ]
  },
  {
   "cell_type": "code",
   "execution_count": 56,
   "metadata": {},
   "outputs": [],
   "source": [
    "new_recovered_list = []\n",
    "for row_index,(info) in enumerate(data_1['Recovered']):\n",
    "    if row_index == 0:\n",
    "        new_recovered_list.append(info)\n",
    "    else:\n",
    "        new_recovered_list.append(info - data_1['Recovered'].iloc[row_index - 1])"
   ]
  },
  {
   "cell_type": "code",
   "execution_count": 57,
   "metadata": {},
   "outputs": [],
   "source": [
    "new_recovered = new_recovered_list\n",
    "total_recovered = data_1['Recovered']\n",
    "new_cases = data_0['new_cases']\n",
    "total_cases = data_0['total_cases']\n",
    "total_deaths = data_0['total_deaths']\n",
    "new_deaths = data_0['new_deaths']\n",
    "new_tests = data_0['new_tests']\n",
    "total_tests = data_0['total_tests']\n",
    "positive_rate = data_0['positive_rate']\n",
    "total_vaccinations = data_0['total_vaccinations']\n",
    "new_vaccinations = data_0['new_vaccinations']"
   ]
  },
  {
   "cell_type": "code",
   "execution_count": 58,
   "metadata": {},
   "outputs": [],
   "source": [
    "new_tests = new_tests.fillna(new_tests.median())\n",
    "total_tests = total_tests.fillna(total_tests.median())\n",
    "positive_rate = positive_rate.fillna(positive_rate.median())\n",
    "total_vaccinations = total_vaccinations.fillna(total_vaccinations.median())\n",
    "new_vaccinations = new_vaccinations.fillna(new_vaccinations.median())"
   ]
  },
  {
   "cell_type": "code",
   "execution_count": 59,
   "metadata": {},
   "outputs": [],
   "source": [
    "new_cases = new_cases.fillna(new_cases.mean())\n",
    "total_cases = total_cases.fillna(total_cases.mean())\n",
    "total_deaths = total_deaths.fillna(total_deaths.mean())\n",
    "new_deaths = new_deaths.fillna(new_deaths.mean())\n",
    "new_tests = new_tests.fillna(new_tests.mean())\n",
    "total_cases = total_cases.fillna(total_cases.mean())\n",
    "total_tests = total_tests.fillna(total_tests.mean())\n",
    "positive_rate = positive_rate.fillna(positive_rate.mean())\n",
    "total_vaccinations = total_vaccinations.fillna(total_vaccinations.mean())\n",
    "new_vaccinations = new_vaccinations.fillna(new_vaccinations.mean())\n",
    "total_recovered = total_recovered.fillna(total_recovered.mean())"
   ]
  },
  {
   "cell_type": "code",
   "execution_count": 60,
   "metadata": {},
   "outputs": [],
   "source": [
    "dates_3 = []\n",
    "for date in data_1['ObservationDate']:\n",
    "    date = str(date).split('/')\n",
    "    date = int(date[2] + date[0] + date[1])\n",
    "    dates_3.append(int(date))\n",
    "data_1['ObservationDate'] = dates_3"
   ]
  },
  {
   "cell_type": "code",
   "execution_count": 61,
   "metadata": {},
   "outputs": [],
   "source": [
    "dates_1 = []\n",
    "for date in data_0['date']:\n",
    "    date = str(date).replace('-','')\n",
    "    dates_1.append(int(date))\n",
    "data_0['date'] = dates_1"
   ]
  },
  {
   "cell_type": "code",
   "execution_count": 62,
   "metadata": {},
   "outputs": [
    {
     "data": {
      "text/plain": [
       "(462, 462)"
      ]
     },
     "execution_count": 62,
     "metadata": {},
     "output_type": "execute_result"
    }
   ],
   "source": [
    "len(new_recovered),len(total_recovered)"
   ]
  },
  {
   "cell_type": "code",
   "execution_count": 63,
   "metadata": {},
   "outputs": [],
   "source": [
    "infos = [new_cases,total_cases,total_deaths,new_deaths,new_tests,total_cases,total_tests,positive_rate,total_vaccinations,new_vaccinations,total_recovered,new_recovered]\n",
    "infos_names = ['new_cases','total_cases','total_deaths','new_deaths','new_tests','total_cases','total_tests','positive_rate','total_vaccinations','new_vaccinations','total_recovered','new_recovered']"
   ]
  },
  {
   "cell_type": "code",
   "execution_count": 64,
   "metadata": {},
   "outputs": [],
   "source": [
    "from sklearn.ensemble import GradientBoostingRegressor,RandomForestRegressor"
   ]
  },
  {
   "cell_type": "code",
   "execution_count": 65,
   "metadata": {},
   "outputs": [],
   "source": [
    "import numpy as np"
   ]
  },
  {
   "cell_type": "code",
   "execution_count": 66,
   "metadata": {},
   "outputs": [],
   "source": [
    "results = {}"
   ]
  },
  {
   "cell_type": "code",
   "execution_count": 67,
   "metadata": {},
   "outputs": [
    {
     "data": {
      "text/plain": [
       "268       20200127\n",
       "321       20200128\n",
       "374       20200129\n",
       "430       20200130\n",
       "497       20200131\n",
       "            ...   \n",
       "281633    20210428\n",
       "282397    20210429\n",
       "283161    20210430\n",
       "283925    20210501\n",
       "284689    20210502\n",
       "Name: ObservationDate, Length: 462, dtype: int64"
      ]
     },
     "execution_count": 67,
     "metadata": {},
     "output_type": "execute_result"
    }
   ],
   "source": [
    "data_1['ObservationDate']"
   ]
  },
  {
   "cell_type": "code",
   "execution_count": 68,
   "metadata": {},
   "outputs": [],
   "source": [
    "for info,name in zip(infos,infos_names):\n",
    "    try:\n",
    "        model = RandomForestRegressor().fit(np.array(data_0['date']).reshape(-1,1),info)\n",
    "        date = np.array([20210509])\n",
    "        results[name] = list(np.round(model.predict(date.reshape(-1,1))))[0]\n",
    "    except:\n",
    "        model = RandomForestRegressor().fit(np.array(data_1['ObservationDate']).reshape(-1,1),info)\n",
    "        date = np.array([20210509])\n",
    "        results[name] = list(np.round(model.predict(date.reshape(-1,1))))[0]"
   ]
  },
  {
   "cell_type": "code",
   "execution_count": 69,
   "metadata": {},
   "outputs": [
    {
     "data": {
      "text/plain": [
       "{'new_cases': 1911.0,\n",
       " 'total_cases': 120184.0,\n",
       " 'total_deaths': 754.0,\n",
       " 'new_deaths': 16.0,\n",
       " 'new_tests': 5053.0,\n",
       " 'total_tests': 622148.0,\n",
       " 'positive_rate': 0.0,\n",
       " 'total_vaccinations': 1089464.0,\n",
       " 'new_vaccinations': 17831.0,\n",
       " 'total_recovered': 97235.0,\n",
       " 'new_recovered': 1073.0}"
      ]
     },
     "execution_count": 69,
     "metadata": {},
     "output_type": "execute_result"
    }
   ],
   "source": [
    "{'new_cases': 1911.0,\n",
    " 'total_cases': 120184.0,\n",
    " 'total_deaths': 754.0,\n",
    " 'new_deaths': 16.0,\n",
    " 'new_tests': 5053.0,\n",
    " 'total_tests': 622148.0,\n",
    " 'positive_rate': 0.0,\n",
    " 'total_vaccinations': 1089464.0,\n",
    " 'new_vaccinations': 17831.0,\n",
    " 'total_recovered': 97235.0,\n",
    " 'new_recovered': 1073.0}"
   ]
  },
  {
   "cell_type": "code",
   "execution_count": 70,
   "metadata": {},
   "outputs": [
    {
     "data": {
      "text/plain": [
       "{'new_cases': 1910.0,\n",
       " 'total_cases': 120165.0,\n",
       " 'total_deaths': 754.0,\n",
       " 'new_deaths': 17.0,\n",
       " 'new_tests': 5239.0,\n",
       " 'total_tests': 570317.0,\n",
       " 'positive_rate': 0.0,\n",
       " 'total_vaccinations': 1093931.0,\n",
       " 'new_vaccinations': 17686.0,\n",
       " 'total_recovered': 97323.0,\n",
       " 'new_recovered': 1001.0}"
      ]
     },
     "execution_count": 70,
     "metadata": {},
     "output_type": "execute_result"
    }
   ],
   "source": [
    "results"
   ]
  },
  {
   "cell_type": "code",
   "execution_count": 71,
   "metadata": {},
   "outputs": [],
   "source": [
    "file_names = []"
   ]
  },
  {
   "cell_type": "code",
   "execution_count": 72,
   "metadata": {},
   "outputs": [],
   "source": [
    "for info,name in zip(infos,infos_names):\n",
    "    if name == 'total_recovered' or name == 'new_recovered':\n",
    "        df = pd.DataFrame({'date':data_1['ObservationDate'],name:info})\n",
    "        df.to_csv(f'./data/cleaned/{name}.csv',index=False)\n",
    "        file_names.append([f'./data/cleaned/{name}.csv',name])\n",
    "    else:\n",
    "        df = pd.DataFrame({'date':data_0['date'],name:info})\n",
    "        df.to_csv(f'./data/cleaned/{name}.csv',index=False)\n",
    "        file_names.append([f'./data/cleaned/{name}.csv',name])"
   ]
  },
  {
   "cell_type": "code",
   "execution_count": 73,
   "metadata": {},
   "outputs": [],
   "source": [
    "from sklearn.neighbors import KNeighborsRegressor\n",
    "from sklearn.linear_model import LogisticRegression,LogisticRegressionCV\n",
    "from sklearn.naive_bayes import GaussianNB\n",
    "from sklearn.tree import DecisionTreeRegressor\n",
    "from sklearn.ensemble import GradientBoostingRegressor,AdaBoostRegressor,BaggingRegressor,RandomForestRegressor\n",
    "from sklearn.svm import SVR"
   ]
  },
  {
   "cell_type": "code",
   "execution_count": 74,
   "metadata": {},
   "outputs": [],
   "source": [
    "models = [\n",
    "    ['DecisionTreeRegressor',DecisionTreeRegressor],\n",
    "    ['GradientBoostingRegressor',GradientBoostingRegressor],\n",
    "    ['AdaBoostRegressor',AdaBoostRegressor],\n",
    "    ['BaggingRegressor',BaggingRegressor],\n",
    "    ['RandomForestRegressor',RandomForestRegressor],\n",
    "    ['SVR',SVR],\n",
    "]"
   ]
  },
  {
   "cell_type": "code",
   "execution_count": 75,
   "metadata": {},
   "outputs": [
    {
     "name": "stdout",
     "output_type": "stream",
     "text": [
      "DecisionTreeRegressor\n",
      "0.9619995758307031\n",
      "GradientBoostingRegressor\n",
      "0.9556697867917268\n",
      "AdaBoostRegressor\n",
      "0.8994385596270581\n",
      "BaggingRegressor\n",
      "0.9518078064944476\n",
      "RandomForestRegressor\n",
      "0.9550801112133459\n",
      "SVR\n",
      "-0.17987967405888142\n"
     ]
    }
   ],
   "source": [
    "results = []\n",
    "for model in models:\n",
    "    results = []\n",
    "    model_name = model[0]\n",
    "    for file in file_names:\n",
    "        data = pd.read_csv(file[0])\n",
    "        X = data['date']\n",
    "        X = np.array(X).reshape(-1,1)\n",
    "        y = data[file[1]]\n",
    "        model_ = model[1]()\n",
    "#         model_ = DecisionTreeRegressor(max_features='sqrt', splitter='random')\n",
    "        model_.fit(X,y)\n",
    "        results.append(model_.score(X,y))               \n",
    "    print(model_name)\n",
    "    print(np.mean(results))\n",
    "# 0.9619995758307031"
   ]
  },
  {
   "cell_type": "code",
   "execution_count": 76,
   "metadata": {},
   "outputs": [],
   "source": [
    "# DecisionTreeRegressor Wins !!"
   ]
  },
  {
   "cell_type": "code",
   "execution_count": 77,
   "metadata": {},
   "outputs": [],
   "source": [
    "grid_search = {\n",
    "    'criterion':['mse','friedman_mse','mae','poissin'],\n",
    "    'splitter':['best','random'],\n",
    "    'max_features':['auto','sqrt','log2'],\n",
    "}"
   ]
  },
  {
   "cell_type": "code",
   "execution_count": 78,
   "metadata": {},
   "outputs": [],
   "source": [
    "model = DecisionTreeRegressor()"
   ]
  },
  {
   "cell_type": "code",
   "execution_count": 79,
   "metadata": {},
   "outputs": [],
   "source": [
    "from sklearn.model_selection import *\n",
    "from sklearn.metrics import *"
   ]
  },
  {
   "cell_type": "code",
   "execution_count": 80,
   "metadata": {},
   "outputs": [],
   "source": [
    "model = GridSearchCV(model,grid_search,n_jobs=-1,cv=5,verbose=5)"
   ]
  },
  {
   "cell_type": "code",
   "execution_count": 81,
   "metadata": {},
   "outputs": [
    {
     "name": "stdout",
     "output_type": "stream",
     "text": [
      "Fitting 5 folds for each of 24 candidates, totalling 120 fits\n"
     ]
    },
    {
     "name": "stderr",
     "output_type": "stream",
     "text": [
      "/home/indika/anaconda3/lib/python3.7/site-packages/sklearn/model_selection/_search.py:925: UserWarning: One or more of the test scores are non-finite: [-2.58231852 -1.61125877 -2.58231852 -1.86111536 -2.58231852 -3.47496656\n",
      " -2.58231852 -1.19710449 -2.58231852 -1.4454228  -2.58231852 -3.50269364\n",
      " -2.58231852 -2.55459145 -2.58231852 -3.50763096 -2.58231852 -2.30728359\n",
      "         nan         nan         nan         nan         nan         nan]\n",
      "  category=UserWarning\n"
     ]
    },
    {
     "data": {
      "text/plain": [
       "GridSearchCV(cv=5, estimator=DecisionTreeRegressor(), n_jobs=-1,\n",
       "             param_grid={'criterion': ['mse', 'friedman_mse', 'mae', 'poissin'],\n",
       "                         'max_features': ['auto', 'sqrt', 'log2'],\n",
       "                         'splitter': ['best', 'random']},\n",
       "             verbose=5)"
      ]
     },
     "execution_count": 81,
     "metadata": {},
     "output_type": "execute_result"
    }
   ],
   "source": [
    "model.fit(X,y)"
   ]
  },
  {
   "cell_type": "code",
   "execution_count": 82,
   "metadata": {},
   "outputs": [
    {
     "data": {
      "text/plain": [
       "DecisionTreeRegressor(criterion='friedman_mse', max_features='auto',\n",
       "                      splitter='random')"
      ]
     },
     "execution_count": 82,
     "metadata": {},
     "output_type": "execute_result"
    }
   ],
   "source": [
    "model.best_estimator_"
   ]
  },
  {
   "cell_type": "code",
   "execution_count": 83,
   "metadata": {},
   "outputs": [
    {
     "data": {
      "text/plain": [
       "0.9615551409924294"
      ]
     },
     "execution_count": 83,
     "metadata": {},
     "output_type": "execute_result"
    }
   ],
   "source": [
    "model.score(X,y)"
   ]
  },
  {
   "cell_type": "code",
   "execution_count": 84,
   "metadata": {},
   "outputs": [],
   "source": [
    "model = DecisionTreeRegressor(max_features='sqrt', splitter='random')"
   ]
  },
  {
   "cell_type": "code",
   "execution_count": 85,
   "metadata": {},
   "outputs": [],
   "source": [
    "import pickle"
   ]
  },
  {
   "cell_type": "code",
   "execution_count": 88,
   "metadata": {},
   "outputs": [
    {
     "data": {
      "text/plain": [
       "[['./data/cleaned/new_cases.csv', 'new_cases'],\n",
       " ['./data/cleaned/total_cases.csv', 'total_cases'],\n",
       " ['./data/cleaned/total_deaths.csv', 'total_deaths'],\n",
       " ['./data/cleaned/new_deaths.csv', 'new_deaths'],\n",
       " ['./data/cleaned/new_tests.csv', 'new_tests'],\n",
       " ['./data/cleaned/total_cases.csv', 'total_cases'],\n",
       " ['./data/cleaned/total_tests.csv', 'total_tests'],\n",
       " ['./data/cleaned/positive_rate.csv', 'positive_rate'],\n",
       " ['./data/cleaned/total_vaccinations.csv', 'total_vaccinations'],\n",
       " ['./data/cleaned/new_vaccinations.csv', 'new_vaccinations'],\n",
       " ['./data/cleaned/total_recovered.csv', 'total_recovered'],\n",
       " ['./data/cleaned/new_recovered.csv', 'new_recovered']]"
      ]
     },
     "execution_count": 88,
     "metadata": {},
     "output_type": "execute_result"
    }
   ],
   "source": [
    "file_names"
   ]
  },
  {
   "cell_type": "code",
   "execution_count": 86,
   "metadata": {},
   "outputs": [
    {
     "name": "stdout",
     "output_type": "stream",
     "text": [
      "new_cases\n",
      "[1914.]\n",
      "total_cases\n",
      "[121338.]\n",
      "total_deaths\n",
      "[764.]\n",
      "new_deaths\n",
      "[19.]\n",
      "new_tests\n",
      "[2827.]\n",
      "total_cases\n",
      "[121338.]\n",
      "total_tests\n",
      "[287864.]\n",
      "positive_rate\n",
      "[0.03]\n",
      "total_vaccinations\n",
      "[1105342.]\n",
      "new_vaccinations\n",
      "[17249.]\n",
      "total_recovered\n",
      "[97848.]\n",
      "new_recovered\n",
      "[1370.]\n"
     ]
    }
   ],
   "source": [
    "for file in file_names:\n",
    "    data = pd.read_csv(file[0])\n",
    "    X = data['date']\n",
    "    X = np.array(X).reshape(-1,1)\n",
    "    y = data[file[1]]\n",
    "    model.fit(X,y)\n",
    "    print(file[1])\n",
    "    print(model.predict(np.array([20210509]).reshape(-1,1)))\n",
    "    pickle.dump(model,open(f'./API/models/{file[1]}.pkl','wb'))"
   ]
  },
  {
   "cell_type": "code",
   "execution_count": 87,
   "metadata": {},
   "outputs": [
    {
     "data": {
      "text/plain": [
       "[['./data/cleaned/new_cases.csv', 'new_cases'],\n",
       " ['./data/cleaned/total_cases.csv', 'total_cases'],\n",
       " ['./data/cleaned/total_deaths.csv', 'total_deaths'],\n",
       " ['./data/cleaned/new_deaths.csv', 'new_deaths'],\n",
       " ['./data/cleaned/new_tests.csv', 'new_tests'],\n",
       " ['./data/cleaned/total_cases.csv', 'total_cases'],\n",
       " ['./data/cleaned/total_tests.csv', 'total_tests'],\n",
       " ['./data/cleaned/positive_rate.csv', 'positive_rate'],\n",
       " ['./data/cleaned/total_vaccinations.csv', 'total_vaccinations'],\n",
       " ['./data/cleaned/new_vaccinations.csv', 'new_vaccinations'],\n",
       " ['./data/cleaned/total_recovered.csv', 'total_recovered'],\n",
       " ['./data/cleaned/new_recovered.csv', 'new_recovered']]"
      ]
     },
     "execution_count": 87,
     "metadata": {},
     "output_type": "execute_result"
    }
   ],
   "source": [
    "file_names"
   ]
  },
  {
   "cell_type": "code",
   "execution_count": null,
   "metadata": {},
   "outputs": [],
   "source": []
  },
  {
   "cell_type": "code",
   "execution_count": null,
   "metadata": {},
   "outputs": [],
   "source": []
  },
  {
   "cell_type": "code",
   "execution_count": null,
   "metadata": {},
   "outputs": [],
   "source": []
  },
  {
   "cell_type": "code",
   "execution_count": null,
   "metadata": {},
   "outputs": [],
   "source": []
  },
  {
   "cell_type": "code",
   "execution_count": null,
   "metadata": {},
   "outputs": [],
   "source": []
  }
 ],
 "metadata": {
  "kernelspec": {
   "display_name": "Python 3.7.3 64-bit ('base': conda)",
   "language": "python",
   "name": "python373jvsc74a57bd0210f9608a45c0278a93c9e0b10db32a427986ab48cfc0d20c139811eb78c4bbc"
  },
  "language_info": {
   "codemirror_mode": {
    "name": "ipython",
    "version": 3
   },
   "file_extension": ".py",
   "mimetype": "text/x-python",
   "name": "python",
   "nbconvert_exporter": "python",
   "pygments_lexer": "ipython3",
   "version": "3.7.3"
  }
 },
 "nbformat": 4,
 "nbformat_minor": 2
}
